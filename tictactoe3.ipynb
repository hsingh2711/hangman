{
 "cells": [
  {
   "cell_type": "code",
   "execution_count": null,
   "metadata": {},
   "outputs": [
    {
     "name": "stdout",
     "output_type": "stream",
     "text": [
      " Dear Player 1 , Enter the row and column of the place where you want to insert X ( in the from row,col): 1,3\n",
      "[['-', '-', 'X'], ['-', '-', '-'], ['-', '-', '-']]\n",
      " Dear Player 2 , Enter the row and column of the place where you want to insert 0 ( in the from row,col): 2,2\n",
      "[['-', '-', 'X'], ['-', '0', '-'], ['-', '-', '-']]\n",
      " Dear Player 1 , Enter the row and column of the place where you want to insert X ( in the from row,col): 2,3\n",
      "[['-', '-', 'X'], ['-', '0', 'X'], ['-', '-', '-']]\n",
      " Dear Player 2 , Enter the row and column of the place where you want to insert 0 ( in the from row,col): 2,2\n",
      "Sorry, this place is already full\n",
      " Dear Player 2 , Enter the row and column of the place where you want to insert 0 ( in the from row,col): 3,1\n",
      "[['-', '-', 'X'], ['-', '0', 'X'], ['0', '-', '-']]\n",
      " Dear Player 1 , Enter the row and column of the place where you want to insert X ( in the from row,col): 1,3\n",
      "Sorry, this place is already full\n",
      " Dear Player 1 , Enter the row and column of the place where you want to insert X ( in the from row,col): 3,3\n",
      "[['-', '-', 'X'], ['-', '0', 'X'], ['0', '-', 'X']]\n",
      " Dear Player 2 , Enter the row and column of the place where you want to insert 0 ( in the from row,col): 1,0\n",
      "Sorry, this place is already full\n",
      " Dear Player 2 , Enter the row and column of the place where you want to insert 0 ( in the from row,col): 1,1\n",
      "[['0', '-', 'X'], ['-', '0', 'X'], ['0', '-', 'X']]\n",
      " Dear Player 1 , Enter the row and column of the place where you want to insert X ( in the from row,col): 1,2\n",
      "[['0', 'X', 'X'], ['-', '0', 'X'], ['0', '-', 'X']]\n",
      " Dear Player 2 , Enter the row and column of the place where you want to insert 0 ( in the from row,col): 2,1\n",
      "[['0', 'X', 'X'], ['0', '0', 'X'], ['0', '-', 'X']]\n",
      " Dear Player 1 , Enter the row and column of the place where you want to insert X ( in the from row,col): 3,2\n",
      "[['0', 'X', 'X'], ['0', '0', 'X'], ['0', 'X', 'X']]\n",
      " Dear Player 2 , Enter the row and column of the place where you want to insert 0 ( in the from row,col): 3,2\n",
      "Sorry, this place is already full\n",
      " Dear Player 2 , Enter the row and column of the place where you want to insert 0 ( in the from row,col): 2,2\n",
      "Sorry, this place is already full\n",
      " Dear Player 2 , Enter the row and column of the place where you want to insert 0 ( in the from row,col): 1,1\n",
      "Sorry, this place is already full\n"
     ]
    }
   ],
   "source": [
    "def insert(x,y,symbol,matrix):\n",
    "    if matrix[x-1][y-1]!='-':\n",
    "        print(\"Sorry, this place is already full\")\n",
    "        return False\n",
    "    else:\n",
    "        matrix[x-1][y-1]=symbol\n",
    "    print(matrix)\n",
    "    return True\n",
    "\n",
    "def ask_a():\n",
    "    a=input(\" Dear Player 1 , Enter the row and column of the place where you want to insert X ( in the from row,col): \")\n",
    "    a=a.split(\",\")\n",
    "    row_a=int(a[0])\n",
    "    col_a=int(a[1])\n",
    "    j=insert(row_a,col_a,\"X\",z)\n",
    "    if j:\n",
    "        ask_b()\n",
    "    else:\n",
    "        ask_a()\n",
    "\n",
    "def ask_b():\n",
    "    b=input(\" Dear Player 2 , Enter the row and column of the place where you want to insert 0 ( in the from row,col): \")\n",
    "    b=b.split(\",\")\n",
    "    row_b=int(b[0])\n",
    "    col_b=int(b[1])\n",
    "    m=insert(row_b,col_b,\"0\",z)\n",
    "    if m:\n",
    "        ask_a()\n",
    "    else:\n",
    "        ask_b()\n",
    "    \n",
    "    \n",
    "z = []\n",
    "for i in range(0,3):\n",
    "    z.append([])\n",
    "    for j in range(0,3):\n",
    "        z[i].append('-')\n",
    "        \n",
    "ask_a()\n",
    "\n",
    "        \n",
    "        \n",
    "    \n",
    "    \n",
    "    \n",
    "\n",
    "\n"
   ]
  },
  {
   "cell_type": "code",
   "execution_count": null,
   "metadata": {},
   "outputs": [],
   "source": []
  }
 ],
 "metadata": {
  "kernelspec": {
   "display_name": "Python 3",
   "language": "python",
   "name": "python3"
  },
  "language_info": {
   "codemirror_mode": {
    "name": "ipython",
    "version": 3
   },
   "file_extension": ".py",
   "mimetype": "text/x-python",
   "name": "python",
   "nbconvert_exporter": "python",
   "pygments_lexer": "ipython3",
   "version": "3.7.1"
  }
 },
 "nbformat": 4,
 "nbformat_minor": 2
}
