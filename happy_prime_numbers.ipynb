{
 "cells": [
  {
   "cell_type": "code",
   "execution_count": 11,
   "metadata": {},
   "outputs": [
    {
     "name": "stdout",
     "output_type": "stream",
     "text": [
      "7\n",
      "13\n",
      "19\n",
      "23\n",
      "31\n",
      "79\n",
      "97\n",
      "103\n",
      "109\n",
      "139\n",
      "167\n",
      "193\n",
      "239\n",
      "263\n",
      "293\n",
      "313\n",
      "331\n",
      "367\n",
      "379\n",
      "383\n",
      "397\n",
      "409\n",
      "487\n",
      "563\n",
      "617\n",
      "653\n",
      "673\n",
      "683\n",
      "709\n",
      "739\n",
      "761\n",
      "863\n",
      "881\n",
      "907\n",
      "937\n",
      "\n"
     ]
    }
   ],
   "source": [
    "with open(\"other.txt\",mode='w+') as f:\n",
    "    l=['4', '16', '37', '58', '89', '145', '42', '20']\n",
    "    x=['1','10','100','1000','10000']\n",
    "    for i in range(1,1000):\n",
    "        sum=0\n",
    "        j=str(i)\n",
    "        while True:\n",
    "            for m in range(len(j)):\n",
    "                n=int(j[m])\n",
    "                sum=sum+(n**2)\n",
    "            sum=str(sum)\n",
    "            if sum in l:\n",
    "                break\n",
    "            elif sum in x:\n",
    "                f.write(str(i)+'\\n')\n",
    "                break\n",
    "            else:\n",
    "                j=sum\n",
    "                sum=0\n",
    "    f.seek(0)\n",
    "    h=f.readlines()\n",
    "    \n",
    "with open(\"one.txt\",mode='w+') as fo:\n",
    "    for n in range(2,1000):\n",
    "        flag=0\n",
    "        for i in range(2,int(n**0.5)+1):\n",
    "            if n%i==0:\n",
    "                flag+=1\n",
    "                break\n",
    "        if flag==0:\n",
    "            fo.write(str(n)+'\\n')\n",
    "    fo.seek(0)\n",
    "    p=fo.readlines()\n",
    "\n",
    "happyprimes= []\n",
    "for i in h:\n",
    "    if i in p:\n",
    "        happyprimes.append(i)\n",
    "        \n",
    "happyprimes=''.join(happyprimes)\n",
    "print(happyprimes)\n"
   ]
  },
  {
   "cell_type": "code",
   "execution_count": null,
   "metadata": {},
   "outputs": [],
   "source": [
    "\n"
   ]
  },
  {
   "cell_type": "code",
   "execution_count": null,
   "metadata": {},
   "outputs": [],
   "source": []
  }
 ],
 "metadata": {
  "kernelspec": {
   "display_name": "Python 3",
   "language": "python",
   "name": "python3"
  },
  "language_info": {
   "codemirror_mode": {
    "name": "ipython",
    "version": 3
   },
   "file_extension": ".py",
   "mimetype": "text/x-python",
   "name": "python",
   "nbconvert_exporter": "python",
   "pygments_lexer": "ipython3",
   "version": "3.7.1"
  }
 },
 "nbformat": 4,
 "nbformat_minor": 2
}
