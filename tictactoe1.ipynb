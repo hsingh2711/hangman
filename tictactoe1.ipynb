{
 "cells": [
  {
   "cell_type": "code",
   "execution_count": 33,
   "metadata": {},
   "outputs": [
    {
     "name": "stdout",
     "output_type": "stream",
     "text": [
      "Enter the size of the game board: 8\n",
      " ------- ------- ------- ------- ------- ------- -------\n",
      "|       |       |       |       |       |       |       |       \n",
      " ------- ------- ------- ------- ------- ------- -------\n",
      "|       |       |       |       |       |       |       |       \n",
      " ------- ------- ------- ------- ------- ------- -------\n",
      "|       |       |       |       |       |       |       |       \n",
      " ------- ------- ------- ------- ------- ------- -------\n",
      "|       |       |       |       |       |       |       |       \n",
      " ------- ------- ------- ------- ------- ------- -------\n",
      "|       |       |       |       |       |       |       |       \n",
      " ------- ------- ------- ------- ------- ------- -------\n",
      "|       |       |       |       |       |       |       |       \n",
      " ------- ------- ------- ------- ------- ------- -------\n",
      "|       |       |       |       |       |       |       |       \n",
      " ------- ------- ------- ------- ------- ------- -------\n",
      "|       |       |       |       |       |       |       |       \n",
      " ------- ------- ------- ------- ------- ------- -------\n"
     ]
    }
   ],
   "source": [
    "def game_board(x):\n",
    "    for i in range(x):\n",
    "            print((\" \"+\"-\"*(x-1))*(x-1))\n",
    "            print((\"|\"+\" \"*(x-1))*x)\n",
    "    print((\" \"+\"-\"*(x-1))*(x-1))\n",
    "    \n",
    "        \n",
    "a=int(input(\"Enter the size of the game board: \"))\n",
    "game_board(a)"
   ]
  },
  {
   "cell_type": "code",
   "execution_count": null,
   "metadata": {},
   "outputs": [],
   "source": [
    "    "
   ]
  },
  {
   "cell_type": "code",
   "execution_count": null,
   "metadata": {},
   "outputs": [],
   "source": []
  }
 ],
 "metadata": {
  "kernelspec": {
   "display_name": "Python 3",
   "language": "python",
   "name": "python3"
  },
  "language_info": {
   "codemirror_mode": {
    "name": "ipython",
    "version": 3
   },
   "file_extension": ".py",
   "mimetype": "text/x-python",
   "name": "python",
   "nbconvert_exporter": "python",
   "pygments_lexer": "ipython3",
   "version": "3.7.1"
  }
 },
 "nbformat": 4,
 "nbformat_minor": 2
}
