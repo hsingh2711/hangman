{
 "cells": [
  {
   "cell_type": "code",
   "execution_count": 14,
   "metadata": {},
   "outputs": [
    {
     "name": "stdout",
     "output_type": "stream",
     "text": [
      "Match Drawn\n"
     ]
    },
    {
     "data": {
      "text/plain": [
       "True"
      ]
     },
     "execution_count": 14,
     "metadata": {},
     "output_type": "execute_result"
    }
   ],
   "source": [
    "def winner(x):\n",
    "    for i in range(3):\n",
    "            if x[i][0]!=0 and x[i][0]==x[i][1] and x[i][1]==x[i][2]:\n",
    "                print(\"Player \"+str(x[i][0])+\" is the winner\")\n",
    "                return True\n",
    "            elif x[0][i]!=0 and x[0][i]==x[1][i] and x[1][i]==x[2][i]:\n",
    "                print(\"Player \"+str(x[0][i])+\" is the winner\")\n",
    "                return True\n",
    "            elif x[1][1]!=0 and x[1][1]==x[0][2] and x[0][2]==x[2][0]:\n",
    "                print(\"Player \"+str(x[1][1])+\" is the winner\")\n",
    "                return True\n",
    "            elif x[1][1]!=0 and x[1][1]==x[0][0] and x[0][0]==x[2][2]:\n",
    "                print(\"Player \"+str(x[1][1])+\" is the winner\")\n",
    "                return True\n",
    "    print(\"Match Drawn\")\n",
    "    return True\n",
    "\n",
    "a=[[1, 2, 0],[2, 1, 0],[2, 1, 0]]\n",
    "winner(a)\n",
    "            \n",
    "            \n",
    "        "
   ]
  },
  {
   "cell_type": "code",
   "execution_count": null,
   "metadata": {},
   "outputs": [],
   "source": []
  },
  {
   "cell_type": "code",
   "execution_count": null,
   "metadata": {},
   "outputs": [],
   "source": []
  }
 ],
 "metadata": {
  "kernelspec": {
   "display_name": "Python 3",
   "language": "python",
   "name": "python3"
  },
  "language_info": {
   "codemirror_mode": {
    "name": "ipython",
    "version": 3
   },
   "file_extension": ".py",
   "mimetype": "text/x-python",
   "name": "python",
   "nbconvert_exporter": "python",
   "pygments_lexer": "ipython3",
   "version": "3.7.1"
  }
 },
 "nbformat": 4,
 "nbformat_minor": 2
}
